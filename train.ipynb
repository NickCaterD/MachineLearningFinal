{
 "cells": [
  {
   "cell_type": "code",
   "execution_count": 7,
   "metadata": {},
   "outputs": [],
   "source": [
    "import numpy as np\n",
    "import cv2\n",
    "import os\n",
    "from tensorflow.keras.models import Sequential\n",
    "from tensorflow.keras.layers import Dense, Conv2D, Dropout, Flatten, MaxPooling2D\n",
    "from tensorflow.keras import optimizers\n",
    "from sklearn.model_selection import train_test_split\n",
    "import DefineModel\n",
    "import re"
   ]
  },
  {
   "cell_type": "code",
   "execution_count": null,
   "metadata": {},
   "outputs": [],
   "source": [
    "# Define variables\n",
    "input_shape = (512, 512, 3)\n",
    "classes = 11\n",
    "\n",
    "# Import data from pretrain to arrays somehow\n",
    "X = []\n",
    "Y = []\n",
    "\n",
    "path = '../ODIR-5K/ODIR-5K/Training Images'\n",
    "\n",
    "for file_name in os.listdir(path):\n",
    "    im = cv2.imread(os.path.join(path, file_name))\n",
    "    split = re.split(r'[.,]',file_name)\n",
    "    label_name = split[0] + '.txt'\n",
    "    label = np.loadtxt(os.path.join('labels', label_name))\n",
    "    #lines = text_file.read().split(',')\n",
    "    \n",
    "    X.append(im)\n",
    "    Y.append(label)    \n",
    "# convert to numpy array for training\n",
    "X = np.array(X)\n",
    "Y = np.array(Y)\n"
   ]
  },
  {
   "cell_type": "code",
   "execution_count": null,
   "metadata": {},
   "outputs": [],
   "source": []
  }
 ],
 "metadata": {
  "kernelspec": {
   "display_name": "Python 3.8",
   "language": "python",
   "name": "python3"
  },
  "language_info": {
   "codemirror_mode": {
    "name": "ipython",
    "version": 3
   },
   "file_extension": ".py",
   "mimetype": "text/x-python",
   "name": "python",
   "nbconvert_exporter": "python",
   "pygments_lexer": "ipython3",
   "version": "3.8.2"
  }
 },
 "nbformat": 4,
 "nbformat_minor": 4
}
