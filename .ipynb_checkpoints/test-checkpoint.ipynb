{
 "cells": [
  {
   "cell_type": "code",
   "execution_count": 46,
   "metadata": {},
   "outputs": [
    {
     "name": "stdout",
     "output_type": "stream",
     "text": [
      "(0,)\n",
      "[0. 0. 0. 1. 0. 0. 0. 0. 0. 0. 0.]\n"
     ]
    },
    {
     "name": "stderr",
     "output_type": "stream",
     "text": [
      "<ipython-input-46-236b1f3ecb5b>:48: DeprecationWarning: `np.float` is a deprecated alias for the builtin `float`. To silence this warning, use `float` by itself. Doing this will not modify any behavior and is safe. If you specifically wanted the numpy scalar type, use `np.float64` here.\n",
      "Deprecated in NumPy 1.20; for more details and guidance: https://numpy.org/devdocs/release/1.20.0-notes.html#deprecations\n",
      "  testing_set = np.array(testing_set, dtype = np.float)\n"
     ]
    }
   ],
   "source": [
    "# this is test\n",
    "import cv2\n",
    "import numpy as np\n",
    "import re\n",
    "\"\"\"\n",
    "from skimage import measure\n",
    "from skimage.color import rgb2lab\n",
    "\"\"\"\n",
    "import os\n",
    "# import random as rand\n",
    "# from tensorflow.keras.models import Sequential\n",
    "# from tensorflow.keras.layers import Dense\n",
    "import DefineModel_OCTnet\n",
    "\n",
    "\n",
    "input_shape = (227,227,3)\n",
    "classes = 11\n",
    "model = DefineModel_OCTnet.createModel(input_shape, classes)\n",
    "model.load_weights(\"model_weights.h5\")\n",
    "\n",
    "path = '../ODIR-5K/ODIR-5K/Testing Images'\n",
    "path_preproc = '../preprocessed_images'\n",
    "# img_path = '../ODIR-5K/ODIR-5K/Testing Images/1007_left.jpg'\n",
    "# img = cv2.imread(img_path)\n",
    "# img = cv2.resize(img, (227,227))\n",
    "# test = np.array([img])\n",
    "\n",
    "testing_set = []\n",
    "count = 0\n",
    "for file_name in os.listdir(path):\n",
    "    if file_name == '.ipynb_checkpoints':\n",
    "        pass\n",
    "    im = cv2.imread(os.path.join(path, file_name))\n",
    "    if np.shape(im) != (512,512,3):\n",
    "         continue\n",
    "    split = re.split(r'[.,]',file_name)\n",
    "    label_name = split[0] + '.txt'\n",
    "    #label = np.loadtxt(os.path.join('labels', label_name))\n",
    "    im = cv2.resize(im,(227,227))\n",
    "    print(np.shape(im))\n",
    "    im = im/255\n",
    "    testing_set.append(im)\n",
    "    count+=1\n",
    "    if count == 2:\n",
    "        break\n",
    "    #Y.append(label) \n",
    "    \n",
    "testing_set = np.array(testing_set, dtype = np.float)\n",
    "#Y = np.array(Y, dtype = np.float)\n",
    "print(np.shape(X))\n",
    "# class probability distribution\n",
    "#softmax_outputs = model.predict(X)\n",
    "#print(softmax_outputs)\n",
    "\n",
    "# most likely class\n",
    "pred_label = softmax_outputs.argmax()\n",
    "\n",
    "names = ['','','','','','','','','','','']\n",
    "\n",
    "\n",
    "label = np.loadtxt(os.path.join('labels', '1003_left.txt'))\n",
    "print(label)"
   ]
  },
  {
   "cell_type": "code",
   "execution_count": null,
   "metadata": {},
   "outputs": [],
   "source": []
  },
  {
   "cell_type": "code",
   "execution_count": null,
   "metadata": {},
   "outputs": [],
   "source": []
  }
 ],
 "metadata": {
  "kernelspec": {
   "display_name": "Python 3.8",
   "language": "python",
   "name": "python3"
  },
  "language_info": {
   "codemirror_mode": {
    "name": "ipython",
    "version": 3
   },
   "file_extension": ".py",
   "mimetype": "text/x-python",
   "name": "python",
   "nbconvert_exporter": "python",
   "pygments_lexer": "ipython3",
   "version": "3.8.2"
  }
 },
 "nbformat": 4,
 "nbformat_minor": 4
}
