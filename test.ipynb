{
 "cells": [
  {
   "cell_type": "code",
   "execution_count": 47,
   "metadata": {},
   "outputs": [
    {
     "ename": "KeyboardInterrupt",
     "evalue": "",
     "output_type": "error",
     "traceback": [
      "\u001b[0;31m---------------------------------------------------------------------------\u001b[0m",
      "\u001b[0;31mKeyboardInterrupt\u001b[0m                         Traceback (most recent call last)",
      "\u001b[0;32m<ipython-input-47-236b1f3ecb5b>\u001b[0m in \u001b[0;36m<module>\u001b[0;34m\u001b[0m\n\u001b[1;32m     31\u001b[0m     \u001b[0;32mif\u001b[0m \u001b[0mfile_name\u001b[0m \u001b[0;34m==\u001b[0m \u001b[0;34m'.ipynb_checkpoints'\u001b[0m\u001b[0;34m:\u001b[0m\u001b[0;34m\u001b[0m\u001b[0;34m\u001b[0m\u001b[0m\n\u001b[1;32m     32\u001b[0m         \u001b[0;32mpass\u001b[0m\u001b[0;34m\u001b[0m\u001b[0;34m\u001b[0m\u001b[0m\n\u001b[0;32m---> 33\u001b[0;31m     \u001b[0mim\u001b[0m \u001b[0;34m=\u001b[0m \u001b[0mcv2\u001b[0m\u001b[0;34m.\u001b[0m\u001b[0mimread\u001b[0m\u001b[0;34m(\u001b[0m\u001b[0mos\u001b[0m\u001b[0;34m.\u001b[0m\u001b[0mpath\u001b[0m\u001b[0;34m.\u001b[0m\u001b[0mjoin\u001b[0m\u001b[0;34m(\u001b[0m\u001b[0mpath\u001b[0m\u001b[0;34m,\u001b[0m \u001b[0mfile_name\u001b[0m\u001b[0;34m)\u001b[0m\u001b[0;34m)\u001b[0m\u001b[0;34m\u001b[0m\u001b[0;34m\u001b[0m\u001b[0m\n\u001b[0m\u001b[1;32m     34\u001b[0m     \u001b[0;32mif\u001b[0m \u001b[0mnp\u001b[0m\u001b[0;34m.\u001b[0m\u001b[0mshape\u001b[0m\u001b[0;34m(\u001b[0m\u001b[0mim\u001b[0m\u001b[0;34m)\u001b[0m \u001b[0;34m!=\u001b[0m \u001b[0;34m(\u001b[0m\u001b[0;36m512\u001b[0m\u001b[0;34m,\u001b[0m\u001b[0;36m512\u001b[0m\u001b[0;34m,\u001b[0m\u001b[0;36m3\u001b[0m\u001b[0;34m)\u001b[0m\u001b[0;34m:\u001b[0m\u001b[0;34m\u001b[0m\u001b[0;34m\u001b[0m\u001b[0m\n\u001b[1;32m     35\u001b[0m          \u001b[0;32mcontinue\u001b[0m\u001b[0;34m\u001b[0m\u001b[0;34m\u001b[0m\u001b[0m\n",
      "\u001b[0;31mKeyboardInterrupt\u001b[0m: "
     ]
    }
   ],
   "source": [
    "# this is test\n",
    "import cv2\n",
    "import numpy as np\n",
    "import re\n",
    "\"\"\"\n",
    "from skimage import measure\n",
    "from skimage.color import rgb2lab\n",
    "\"\"\"\n",
    "import os\n",
    "# import random as rand\n",
    "# from tensorflow.keras.models import Sequential\n",
    "# from tensorflow.keras.layers import Dense\n",
    "import DefineModel_OCTnet\n",
    "\n",
    "\n",
    "input_shape = (227,227,3)\n",
    "classes = 11\n",
    "model = DefineModel_OCTnet.createModel(input_shape, classes)\n",
    "model.load_weights(\"model_weights.h5\")\n",
    "\n",
    "path = '../ODIR-5K/ODIR-5K/Testing Images'\n",
    "path_preproc = '../preprocessed_images'\n",
    "# img_path = '../ODIR-5K/ODIR-5K/Testing Images/1007_left.jpg'\n",
    "# img = cv2.imread(img_path)\n",
    "# img = cv2.resize(img, (227,227))\n",
    "# test = np.array([img])\n",
    "\n",
    "testing_set = []\n",
    "count = 0\n",
    "for file_name in os.listdir(path):\n",
    "    if file_name == '.ipynb_checkpoints':\n",
    "        pass\n",
    "    im = cv2.imread(os.path.join(path, file_name))\n",
    "    if np.shape(im) != (512,512,3):\n",
    "         continue\n",
    "    split = re.split(r'[.,]',file_name)\n",
    "    label_name = split[0] + '.txt'\n",
    "    #label = np.loadtxt(os.path.join('labels', label_name))\n",
    "    im = cv2.resize(im,(227,227))\n",
    "    print(np.shape(im))\n",
    "    im = im/255\n",
    "    testing_set.append(im)\n",
    "    \n",
    "    count+=1\n",
    "    if count == 2:\n",
    "        break\n",
    "    #Y.append(label) \n",
    "    \n",
    "testing_set = np.array(testing_set, dtype = np.float)\n",
    "#Y = np.array(Y, dtype = np.float)\n",
    "print(np.shape(X))\n",
    "# class probability distribution\n",
    "#softmax_outputs = model.predict(X)\n",
    "#print(softmax_outputs)\n",
    "\n",
    "# most likely class\n",
    "pred_label = softmax_outputs.argmax()\n",
    "\n",
    "names = ['','','','','','','','','','','']\n",
    "\n",
    "\n",
    "label = np.loadtxt(os.path.join('labels', '1003_left.txt'))\n",
    "print(label)"
   ]
  },
  {
   "cell_type": "code",
   "execution_count": null,
   "metadata": {},
   "outputs": [],
   "source": []
  },
  {
   "cell_type": "code",
   "execution_count": null,
   "metadata": {},
   "outputs": [],
   "source": []
  }
 ],
 "metadata": {
  "kernelspec": {
   "display_name": "Python 3.8",
   "language": "python",
   "name": "python3"
  },
  "language_info": {
   "codemirror_mode": {
    "name": "ipython",
    "version": 3
   },
   "file_extension": ".py",
   "mimetype": "text/x-python",
   "name": "python",
   "nbconvert_exporter": "python",
   "pygments_lexer": "ipython3",
   "version": "3.8.2"
  }
 },
 "nbformat": 4,
 "nbformat_minor": 4
}
