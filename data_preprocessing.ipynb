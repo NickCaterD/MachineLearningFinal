{
 "cells": [
  {
   "cell_type": "code",
   "execution_count": 1,
   "metadata": {},
   "outputs": [],
   "source": [
    "import numpy as np\n",
    "from tensorflow import keras\n",
    "import cv2\n",
    "import matplotlib.pyplot as plt\n",
    "import pandas as pd"
   ]
  },
  {
   "cell_type": "code",
   "execution_count": 13,
   "metadata": {},
   "outputs": [],
   "source": [
    "## load data into pandas data_frame\n",
    "data = pd.read_csv('full_df.csv')\n",
    "x = data['Left-Diagnostic Keywords'][2][10] + '|,'"
   ]
  },
  {
   "cell_type": "code",
   "execution_count": 14,
   "metadata": {},
   "outputs": [],
   "source": [
    "# split diagnostic keyword strings into individual labels\n",
    "data['Left-Diagnostic Keywords'] =  data['Left-Diagnostic Keywords'].str.split(x)\n",
    "data['Right-Diagnostic Keywords'] = data['Right-Diagnostic Keywords'].str.split(x) "
   ]
  },
  {
   "cell_type": "code",
   "execution_count": 18,
   "metadata": {},
   "outputs": [
    {
     "data": {
      "text/plain": [
       "normal fundus                             2901\n",
       "moderate non proliferative retinopathy     915\n",
       "mild nonproliferative retinopathy          523\n",
       "cataract                                   304\n",
       "glaucoma                                   282\n",
       "pathological myopia                        216\n",
       "dry age-related macular degeneration       212\n",
       "hypertensive retinopathy                   191\n",
       "epiretinal membrane                        175\n",
       "drusen                                     165\n",
       "macular epiretinal membrane                162\n",
       "Name: 0, dtype: int64"
      ]
     },
     "execution_count": 18,
     "metadata": {},
     "output_type": "execute_result"
    }
   ],
   "source": [
    "# get the most common keywords, we will use the 10 most common labels and classify the rest as 'other'\n",
    "allKeywords = np.concatenate(data['Left-Diagnostic Keywords'])\n",
    "allKeywords_df = pd.DataFrame(allKeywords)\n",
    "num_conditions = allKeywords_df[0].value_counts()\n",
    "num_conditions[0:11]"
   ]
  },
  {
   "cell_type": "code",
   "execution_count": 36,
   "metadata": {},
   "outputs": [],
   "source": [
    "# associate each class with an orthogonal vector (one-hot encoding)\n",
    "classes = {'labels':\\\n",
    "           ['normal fundus',\\\n",
    "            'moderate non proliferative retinopathy',\\\n",
    "            'mild nonproliferative retinopathy',\n",
    "           'glaucoma',\\\n",
    "            'pathological myopia',\\\n",
    "            'dry age-related macular degeneration',\\\n",
    "            'hypertensive retinopathy',\\\n",
    "            'epiretinal membrane',\\\n",
    "            'drusen',\\\n",
    "            'macular epiretinal membrane',\n",
    "            'other'],\\\n",
    "            'vector': [[1,0,0,0,0,0,0,0,0,0,0],\\\n",
    "                    [0,1,0,0,0,0,0,0,0,0,0],\\\n",
    "                    [0,0,1,0,0,0,0,0,0,0,0],\\\n",
    "                    [0,0,0,1,0,0,0,0,0,0,0],\\\n",
    "                    [0,0,0,0,1,0,0,0,0,0,0],\\\n",
    "                    [0,0,0,0,0,1,0,0,0,0,0],\\\n",
    "                    [0,0,0,0,0,0,1,0,0,0,0],\\\n",
    "                    [0,0,0,0,0,0,0,1,0,0,0],\\\n",
    "                    [0,0,0,0,0,0,0,0,1,0,0],\\\n",
    "                    [0,0,0,0,0,0,0,0,0,1,0],\\\n",
    "                    [0,0,0,0,0,0,0,0,0,0,1]]}\n",
    "classes_df = pd.DataFrame(classes)\n",
    "\n",
    "\n",
    "## using a dict might be better than a data frame for this. gonna leave both for now just in case.\n",
    "classes_dict = {\\\n",
    "            'normal fundus':                           [1,0,0,0,0,0,0,0,0,0,0],\\\n",
    "            'moderate non proliferative retinopathy' : [0,1,0,0,0,0,0,0,0,0,0],\\\n",
    "            'mild nonproliferative retinopathy':       [0,0,1,0,0,0,0,0,0,0,0],\\\n",
    "            'glaucoma' :                               [0,0,0,1,0,0,0,0,0,0,0],\\\n",
    "            'pathological myopia' :                    [0,0,0,0,1,0,0,0,0,0,0],\\\n",
    "            'dry age-related macular degeneration':    [0,0,0,0,0,1,0,0,0,0,0],\\\n",
    "            'hypertensive retinopathy':                [0,0,0,0,0,0,1,0,0,0,0],\\\n",
    "            'epiretinal membrane':                     [0,0,0,0,0,0,0,1,0,0,0],\\\n",
    "            'drusen':                                  [0,0,0,0,0,0,0,0,1,0,0],\\\n",
    "            'macular epiretinal membrane':             [0,0,0,0,0,0,0,0,0,1,0],\\\n",
    "            'other':                                   [0,0,0,0,0,0,0,0,0,0,1]}"
   ]
  },
  {
   "cell_type": "code",
   "execution_count": 42,
   "metadata": {},
   "outputs": [
    {
     "data": {
      "text/plain": [
       "[0, 1, 0, 0, 0, 0, 0, 0, 0, 0, 0]"
      ]
     },
     "execution_count": 42,
     "metadata": {},
     "output_type": "execute_result"
    }
   ],
   "source": [
    "#TO-DO\n",
    "#1. replace all non-important labels in dataframe with 'other'\n",
    "#2. add two new columns to data to put vectorized labels for each eye \n",
    "classes_dict[data['Left-Diagnostic Keywords'][2][1]]"
   ]
  },
  {
   "cell_type": "code",
   "execution_count": null,
   "metadata": {},
   "outputs": [],
   "source": []
  }
 ],
 "metadata": {
  "kernelspec": {
   "display_name": "Python 3.8",
   "language": "python",
   "name": "python3"
  },
  "language_info": {
   "codemirror_mode": {
    "name": "ipython",
    "version": 3
   },
   "file_extension": ".py",
   "mimetype": "text/x-python",
   "name": "python",
   "nbconvert_exporter": "python",
   "pygments_lexer": "ipython3",
   "version": "3.8.2"
  }
 },
 "nbformat": 4,
 "nbformat_minor": 4
}
