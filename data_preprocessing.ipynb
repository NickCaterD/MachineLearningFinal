{
 "cells": [
  {
   "cell_type": "code",
   "execution_count": 2,
   "metadata": {},
   "outputs": [],
   "source": [
    "import numpy as np\n",
    "from tensorflow import keras\n",
    "import cv2\n",
    "import matplotlib.pyplot as plt\n",
    "import pandas as pd"
   ]
  },
  {
   "cell_type": "code",
   "execution_count": 7,
   "metadata": {},
   "outputs": [],
   "source": [
    "## load data into pandas data_frame\n",
    "data = pd.read_csv('full_df.csv')\n",
    "x = data['Left-Diagnostic Keywords'][2][10] + '|,'"
   ]
  },
  {
   "cell_type": "code",
   "execution_count": 8,
   "metadata": {},
   "outputs": [],
   "source": [
    "# split diagnostic keyword strings into individual labels\n",
    "data['Left-Diagnostic Keywords'] =  data['Left-Diagnostic Keywords'].str.split(x)\n",
    "data['Right-Diagnostic Keywords'] = data['Right-Diagnostic Keywords'].str.split(x) "
   ]
  },
  {
   "cell_type": "code",
   "execution_count": 9,
   "metadata": {},
   "outputs": [
    {
     "data": {
      "text/plain": [
       "normal fundus                             2901\n",
       "moderate non proliferative retinopathy     915\n",
       "mild nonproliferative retinopathy          523\n",
       "cataract                                   304\n",
       "glaucoma                                   282\n",
       "pathological myopia                        216\n",
       "dry age-related macular degeneration       212\n",
       "hypertensive retinopathy                   191\n",
       "epiretinal membrane                        175\n",
       "drusen                                     165\n",
       "macular epiretinal membrane                162\n",
       "Name: 0, dtype: int64"
      ]
     },
     "execution_count": 9,
     "metadata": {},
     "output_type": "execute_result"
    }
   ],
   "source": [
    "# get the most common keywords, we will use the 10 most common labels and classify the rest as 'other'\n",
    "allKeywords = np.concatenate(data['Left-Diagnostic Keywords'])\n",
    "allKeywords_df = pd.DataFrame(allKeywords)\n",
    "num_conditions = allKeywords_df[0].value_counts()\n",
    "num_conditions[0:11]"
   ]
  },
  {
   "cell_type": "code",
   "execution_count": 10,
   "metadata": {},
   "outputs": [],
   "source": [
    "# associate each class with an orthogonal vector (one-hot encoding)\n",
    "classes = {'labels':\\\n",
    "           ['normal fundus',\\\n",
    "            'moderate non proliferative retinopathy',\\\n",
    "            'mild nonproliferative retinopathy',\n",
    "           'glaucoma',\\\n",
    "            'pathological myopia',\\\n",
    "            'dry age-related macular degeneration',\\\n",
    "            'hypertensive retinopathy',\\\n",
    "            'epiretinal membrane',\\\n",
    "            'drusen',\\\n",
    "            'macular epiretinal membrane',\n",
    "            'other'],\\\n",
    "            'vector': [[1,0,0,0,0,0,0,0,0,0,0],\\\n",
    "                    [0,1,0,0,0,0,0,0,0,0,0],\\\n",
    "                    [0,0,1,0,0,0,0,0,0,0,0],\\\n",
    "                    [0,0,0,1,0,0,0,0,0,0,0],\\\n",
    "                    [0,0,0,0,1,0,0,0,0,0,0],\\\n",
    "                    [0,0,0,0,0,1,0,0,0,0,0],\\\n",
    "                    [0,0,0,0,0,0,1,0,0,0,0],\\\n",
    "                    [0,0,0,0,0,0,0,1,0,0,0],\\\n",
    "                    [0,0,0,0,0,0,0,0,1,0,0],\\\n",
    "                    [0,0,0,0,0,0,0,0,0,1,0],\\\n",
    "                    [0,0,0,0,0,0,0,0,0,0,1]]}\n",
    "classes_df = pd.DataFrame(classes)\n",
    "\n",
    "\n",
    "## using a dict might be better than a data frame for this. gonna leave both for now just in case.\n",
    "classes_dict = {\\\n",
    "            'normal fundus':                           np.asarray([1,0,0,0,0,0,0,0,0,0,0]),\\\n",
    "            'moderate non proliferative retinopathy' : np.asarray([0,1,0,0,0,0,0,0,0,0,0]),\\\n",
    "            'mild nonproliferative retinopathy':       np.asarray([0,0,1,0,0,0,0,0,0,0,0]),\\\n",
    "            'glaucoma' :                               np.asarray([0,0,0,1,0,0,0,0,0,0,0]),\\\n",
    "            'pathological myopia' :                    np.asarray([0,0,0,0,1,0,0,0,0,0,0]),\\\n",
    "            'dry age-related macular degeneration':    np.asarray([0,0,0,0,0,1,0,0,0,0,0]),\\\n",
    "            'hypertensive retinopathy':                np.asarray([0,0,0,0,0,0,1,0,0,0,0]),\\\n",
    "            'epiretinal membrane':                     np.asarray([0,0,0,0,0,0,0,1,0,0,0]),\\\n",
    "            'drusen':                                  np.asarray([0,0,0,0,0,0,0,0,1,0,0]),\\\n",
    "            'macular epiretinal membrane':             np.asarray([0,0,0,0,0,0,0,0,0,1,0]),\\\n",
    "            'other':                                   np.asarray([0,0,0,0,0,0,0,0,0,0,1])}\n"
   ]
  },
  {
   "cell_type": "code",
   "execution_count": 51,
   "metadata": {},
   "outputs": [
    {
     "ename": "TypeError",
     "evalue": "only integer scalar arrays can be converted to a scalar index",
     "output_type": "error",
     "traceback": [
      "\u001b[0;31m---------------------------------------------------------------------------\u001b[0m",
      "\u001b[0;31mTypeError\u001b[0m                                 Traceback (most recent call last)",
      "\u001b[0;32m<ipython-input-51-f0bda6d67efb>\u001b[0m in \u001b[0;36m<module>\u001b[0;34m\u001b[0m\n\u001b[1;32m     36\u001b[0m \u001b[0;34m\u001b[0m\u001b[0m\n\u001b[1;32m     37\u001b[0m \u001b[0;34m\u001b[0m\u001b[0m\n\u001b[0;32m---> 38\u001b[0;31m \u001b[0mnp\u001b[0m\u001b[0;34m.\u001b[0m\u001b[0mndarray\u001b[0m\u001b[0;34m.\u001b[0m\u001b[0mall\u001b[0m\u001b[0;34m(\u001b[0m\u001b[0mleft_vectors\u001b[0m\u001b[0;34m,\u001b[0m \u001b[0mclasses_dict\u001b[0m\u001b[0;34m[\u001b[0m\u001b[0;34m'other'\u001b[0m\u001b[0;34m]\u001b[0m\u001b[0;34m)\u001b[0m\u001b[0;34m\u001b[0m\u001b[0;34m\u001b[0m\u001b[0m\n\u001b[0m\u001b[1;32m     39\u001b[0m \u001b[0;34m\u001b[0m\u001b[0m\n\u001b[1;32m     40\u001b[0m \u001b[0;31m#take a look at whats going on at 243\u001b[0m\u001b[0;34m\u001b[0m\u001b[0;34m\u001b[0m\u001b[0;34m\u001b[0m\u001b[0m\n",
      "\u001b[0;32m~/.local/lib/python3.8/site-packages/numpy/core/_methods.py\u001b[0m in \u001b[0;36m_all\u001b[0;34m(a, axis, dtype, out, keepdims, where)\u001b[0m\n\u001b[1;32m     60\u001b[0m     \u001b[0;31m# Parsing keyword arguments is currently fairly slow, so avoid it for now\u001b[0m\u001b[0;34m\u001b[0m\u001b[0;34m\u001b[0m\u001b[0;34m\u001b[0m\u001b[0m\n\u001b[1;32m     61\u001b[0m     \u001b[0;32mif\u001b[0m \u001b[0mwhere\u001b[0m \u001b[0;32mis\u001b[0m \u001b[0;32mTrue\u001b[0m\u001b[0;34m:\u001b[0m\u001b[0;34m\u001b[0m\u001b[0;34m\u001b[0m\u001b[0m\n\u001b[0;32m---> 62\u001b[0;31m         \u001b[0;32mreturn\u001b[0m \u001b[0mumr_all\u001b[0m\u001b[0;34m(\u001b[0m\u001b[0ma\u001b[0m\u001b[0;34m,\u001b[0m \u001b[0maxis\u001b[0m\u001b[0;34m,\u001b[0m \u001b[0mdtype\u001b[0m\u001b[0;34m,\u001b[0m \u001b[0mout\u001b[0m\u001b[0;34m,\u001b[0m \u001b[0mkeepdims\u001b[0m\u001b[0;34m)\u001b[0m\u001b[0;34m\u001b[0m\u001b[0;34m\u001b[0m\u001b[0m\n\u001b[0m\u001b[1;32m     63\u001b[0m     \u001b[0;32mreturn\u001b[0m \u001b[0mumr_all\u001b[0m\u001b[0;34m(\u001b[0m\u001b[0ma\u001b[0m\u001b[0;34m,\u001b[0m \u001b[0maxis\u001b[0m\u001b[0;34m,\u001b[0m \u001b[0mdtype\u001b[0m\u001b[0;34m,\u001b[0m \u001b[0mout\u001b[0m\u001b[0;34m,\u001b[0m \u001b[0mkeepdims\u001b[0m\u001b[0;34m,\u001b[0m \u001b[0mwhere\u001b[0m\u001b[0;34m=\u001b[0m\u001b[0mwhere\u001b[0m\u001b[0;34m)\u001b[0m\u001b[0;34m\u001b[0m\u001b[0;34m\u001b[0m\u001b[0m\n\u001b[1;32m     64\u001b[0m \u001b[0;34m\u001b[0m\u001b[0m\n",
      "\u001b[0;31mTypeError\u001b[0m: only integer scalar arrays can be converted to a scalar index"
     ]
    }
   ],
   "source": [
    "#TO-DO\n",
    "#1. replace all non-important labels in dataframe with 'other'? Boolean Mask or loop, list comprehension\n",
    "# define two empty arrays for the vectors to go into\n",
    "\n",
    "#insert 6391 zero vectors\n",
    "\n",
    "data['left_vectors'] = np.nan\n",
    "data['right_vectors'] = np.nan\n",
    "\n",
    "labels_array = np.asarray(classes_df['labels'])\n",
    "for indx, element in enumerate(data['Left-Diagnostic Keywords']):\n",
    "    for indx2, label in enumerate(element): \n",
    "        if label not in labels_array:\n",
    "            data.iloc[indx][5][indx2] = 'other'\n",
    "                 \n",
    "for indx, element in enumerate(data['Right-Diagnostic Keywords']):\n",
    "    for indx2, label in enumerate(element):\n",
    "        if label not in labels_array:\n",
    "            data.iloc[indx][6][indx2] = 'other'      \n",
    "\n",
    "         \n",
    "#2. add two new columns to data to put vectorized labels for each eye.\n",
    "left_keywords = data['Left-Diagnostic Keywords']\n",
    "right_keywords = data['Right-Diagnostic Keywords']\n",
    "\n",
    "left_vectors = np.zeros((6392,11))\n",
    "right_vectors = np.zeros((6392,11))\n",
    "\n",
    "for indx, element in enumerate(left_keywords):\n",
    "    for item in element:\n",
    "        left_vectors[indx,:] += classes_dict[item]\n",
    "\n",
    "for indx, element in enumerate(right_keywords):\n",
    "    for item in element:\n",
    "        right_vectors[indx,:] += classes_dict[item]      \n",
    "\n",
    "\n",
    "np.ndarray.all(left_vectors, classes_dict['other'])\n",
    "\n",
    "#take a look at whats going on at 243"
   ]
  },
  {
   "cell_type": "code",
   "execution_count": 12,
   "metadata": {},
   "outputs": [
    {
     "ename": "KeyboardInterrupt",
     "evalue": "",
     "output_type": "error",
     "traceback": [
      "\u001b[0;31m---------------------------------------------------------------------------\u001b[0m",
      "\u001b[0;31mKeyboardInterrupt\u001b[0m                         Traceback (most recent call last)",
      "\u001b[0;32m<ipython-input-12-5a19e735b445>\u001b[0m in \u001b[0;36m<module>\u001b[0;34m\u001b[0m\n\u001b[1;32m     13\u001b[0m     \u001b[0mfile\u001b[0m \u001b[0;34m=\u001b[0m \u001b[0mopen\u001b[0m\u001b[0;34m(\u001b[0m\u001b[0mname\u001b[0m\u001b[0;34m,\u001b[0m\u001b[0;34m'w'\u001b[0m\u001b[0;34m)\u001b[0m\u001b[0;34m\u001b[0m\u001b[0;34m\u001b[0m\u001b[0m\n\u001b[1;32m     14\u001b[0m     \u001b[0;31m#file.write(str(left_vectors[indx,:]))\u001b[0m\u001b[0;34m\u001b[0m\u001b[0;34m\u001b[0m\u001b[0;34m\u001b[0m\u001b[0m\n\u001b[0;32m---> 15\u001b[0;31m     \u001b[0mnp\u001b[0m\u001b[0;34m.\u001b[0m\u001b[0msavetxt\u001b[0m\u001b[0;34m(\u001b[0m\u001b[0mname\u001b[0m\u001b[0;34m,\u001b[0m \u001b[0melement\u001b[0m\u001b[0;34m)\u001b[0m\u001b[0;34m\u001b[0m\u001b[0;34m\u001b[0m\u001b[0m\n\u001b[0m",
      "\u001b[0;32m<__array_function__ internals>\u001b[0m in \u001b[0;36msavetxt\u001b[0;34m(*args, **kwargs)\u001b[0m\n",
      "\u001b[0;32m~/.local/lib/python3.8/site-packages/numpy/lib/npyio.py\u001b[0m in \u001b[0;36msavetxt\u001b[0;34m(fname, X, fmt, delimiter, newline, header, footer, comments, encoding)\u001b[0m\n\u001b[1;32m   1443\u001b[0m     \u001b[0;32mfinally\u001b[0m\u001b[0;34m:\u001b[0m\u001b[0;34m\u001b[0m\u001b[0;34m\u001b[0m\u001b[0m\n\u001b[1;32m   1444\u001b[0m         \u001b[0;32mif\u001b[0m \u001b[0mown_fh\u001b[0m\u001b[0;34m:\u001b[0m\u001b[0;34m\u001b[0m\u001b[0;34m\u001b[0m\u001b[0m\n\u001b[0;32m-> 1445\u001b[0;31m             \u001b[0mfh\u001b[0m\u001b[0;34m.\u001b[0m\u001b[0mclose\u001b[0m\u001b[0;34m(\u001b[0m\u001b[0;34m)\u001b[0m\u001b[0;34m\u001b[0m\u001b[0;34m\u001b[0m\u001b[0m\n\u001b[0m\u001b[1;32m   1446\u001b[0m \u001b[0;34m\u001b[0m\u001b[0m\n\u001b[1;32m   1447\u001b[0m \u001b[0;34m\u001b[0m\u001b[0m\n",
      "\u001b[0;31mKeyboardInterrupt\u001b[0m: "
     ]
    }
   ],
   "source": [
    "# we need \n",
    "# file_names.txt\n",
    "# label_vectors.txt\n",
    "\n",
    "for indx,element in enumerate(left_vectors):\n",
    "    name = 'labels/'+str(indx)+'_left.txt'\n",
    "    file = open(name,'w')\n",
    "    #file.write(str(left_vectors[indx,:]))\n",
    "    np.savetxt(name, element)\n",
    "    \n",
    "for indx,element in enumerate(right_vectors):\n",
    "    name = 'labels/'+str(indx)+'_right.txt'\n",
    "    file = open(name,'w')\n",
    "    #file.write(str(left_vectors[indx,:]))\n",
    "    np.savetxt(name, element)"
   ]
  },
  {
   "cell_type": "code",
   "execution_count": null,
   "metadata": {},
   "outputs": [],
   "source": []
  }
 ],
 "metadata": {
  "kernelspec": {
   "display_name": "Python 3.8",
   "language": "python",
   "name": "python3"
  },
  "language_info": {
   "codemirror_mode": {
    "name": "ipython",
    "version": 3
   },
   "file_extension": ".py",
   "mimetype": "text/x-python",
   "name": "python",
   "nbconvert_exporter": "python",
   "pygments_lexer": "ipython3",
   "version": "3.8.2"
  }
 },
 "nbformat": 4,
 "nbformat_minor": 4
}
